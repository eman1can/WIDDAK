{
 "cells": [
  {
   "cell_type": "code",
   "execution_count": 4,
   "metadata": {},
   "outputs": [],
   "source": [
    "import configparser\n"
   ]
  },
  {
   "cell_type": "code",
   "execution_count": 15,
   "metadata": {},
   "outputs": [],
   "source": [
    "\"\"\"Writes a dictionary containing the default values from env.py to a config file.\"\"\"\n",
    "config = configparser.ConfigParser()\n",
    "config['Environment'] = {\n",
    "    'n_hidden': 4,\n",
    "    'width': 32,\n",
    "    'height': 32,\n",
    "    'pad': 1,\n",
    "    'alpha': 1,\n",
    "    'beta': 1,\n",
    "    'food_amt': 16,\n",
    "    'max_food': 4,\n",
    "}\n",
    "with open('default_config.ini', 'w') as configfile:\n",
    "    config.write(configfile, space_around_delimiters=True)"
   ]
  },
  {
   "cell_type": "code",
   "execution_count": 7,
   "metadata": {},
   "outputs": [],
   "source": [
    "config['Mold'] = {\n",
    "    'title': \"Random Agent\",\n",
    "    'description': \"A random agent that does nothing.\",\n",
    "    'eat_rate': 1,\n",
    "    'life_rate': 1,\n",
    "}\n",
    "with open('default_config.ini', 'w') as configfile:\n",
    "    config.write(configfile, space_around_delimiters=True)"
   ]
  },
  {
   "cell_type": "code",
   "execution_count": 16,
   "metadata": {},
   "outputs": [],
   "source": [
    "import numpy as np\n",
    "import os"
   ]
  },
  {
   "cell_type": "code",
   "execution_count": 14,
   "metadata": {},
   "outputs": [
    {
     "data": {
      "text/plain": [
       "array('[32, 32]', dtype='<U8')"
      ]
     },
     "execution_count": 14,
     "metadata": {},
     "output_type": "execute_result"
    }
   ],
   "source": [
    "c = configparser.ConfigParser()\n",
    "c.read('default_config.ini')\n",
    "c.sections()\n",
    "np.array(c[\"Environment\"][\"esize\"])"
   ]
  },
  {
   "cell_type": "code",
   "execution_count": 20,
   "metadata": {},
   "outputs": [],
   "source": [
    "def get_env_shape(folder):\n",
    "    # Parses the first .config file contained in the given folder,\n",
    "    # returns a tuple of the environment shape\n",
    "    for entry in os.scandir(path=os.fsencode(folder)):\n",
    "        if entry.name.endswith(b\".config\"):\n",
    "            config = configparser.ConfigParser()\n",
    "            config.read(entry.path.decode())\n",
    "            return (int(config[\"Environment\"][\"width\"]), int(config[\"Environment\"][\"height\"]))"
   ]
  },
  {
   "cell_type": "code",
   "execution_count": 22,
   "metadata": {},
   "outputs": [
    {
     "data": {
      "text/plain": [
       "(32, 32)"
      ]
     },
     "execution_count": 22,
     "metadata": {},
     "output_type": "execute_result"
    }
   ],
   "source": [
    "get_env_shape(\"../example_networks/small/\")"
   ]
  }
 ],
 "metadata": {
  "kernelspec": {
   "display_name": "Python 3.8.13 ('tf_2.4.0')",
   "language": "python",
   "name": "python3"
  },
  "language_info": {
   "codemirror_mode": {
    "name": "ipython",
    "version": 3
   },
   "file_extension": ".py",
   "mimetype": "text/x-python",
   "name": "python",
   "nbconvert_exporter": "python",
   "pygments_lexer": "ipython3",
   "version": "3.8.13"
  },
  "orig_nbformat": 4,
  "vscode": {
   "interpreter": {
    "hash": "5592904bc02381d742d8677a7dee9dfad432ddb320dbe6e668ed13d03d50aa2a"
   }
  }
 },
 "nbformat": 4,
 "nbformat_minor": 2
}
