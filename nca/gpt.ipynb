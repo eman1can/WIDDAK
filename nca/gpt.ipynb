{
 "cells": [
  {
   "cell_type": "code",
   "execution_count": 5,
   "metadata": {},
   "outputs": [],
   "source": [
    "import numpy as np\n",
    "\n",
    "# Define the grid dimensions\n",
    "nx = 100  # Number of grid points in the x direction\n",
    "ny = 100  # Number of grid points in the y direction\n",
    "\n",
    "# Compute the grid spacing in the x and y directions\n",
    "dx = 1.0 / (nx - 1)\n",
    "dy = 1.0 / (ny - 1)\n",
    "\n",
    "# Define the properties of the fluid\n",
    "rho = 1.0  # Density of the fluid (kg/m^3)\n",
    "mu = 1.0   # Dynamic viscosity of the fluid (Pa*s)\n",
    "\n",
    "# Define the initial conditions\n",
    "p = np.zeros((nx, ny))  # Pressure (Pa)\n",
    "u = np.zeros((nx, ny))  # Velocity in the x direction (m/s)\n",
    "v = np.zeros((nx, ny))  # Velocity in the y direction (m/s)\n",
    "\n",
    "# Define the boundary conditions\n",
    "bc_flow = np.zeros((nx, ny))  # Array to specify which cells allow fluid flow (1 = flow allowed, 0 = no flow)\n"
   ]
  },
  {
   "cell_type": "code",
   "execution_count": 27,
   "metadata": {},
   "outputs": [
    {
     "data": {
      "image/png": "[encoded data removed]",
      "text/plain": [
       "<Figure size 640x480 with 1 Axes>"
      ]
     },
     "metadata": {},
     "output_type": "display_data"
    }
   ],
   "source": [
    "# Define a binary grid that will be used to draw \"hello\"\n",
    "hello_grid = np.zeros((10, 10))\n",
    "\n",
    "# Set the values of the grid cells to draw \"hello\"\n",
    "hello_grid[0, [0, 1, 2, 3, 4]] = 1\n",
    "hello_grid[1, [0, 4]] = 1\n",
    "hello_grid[2, [0, 4]] = 1\n",
    "hello_grid[3, [0, 1, 2, 3, 4]] = 1\n",
    "hello_grid[4, [0, 1, 4]] = 1\n",
    "hello_grid[5, [0, 1, 2, 3, 4]] = 1\n",
    "hello_grid[6, [0, 1, 4]] = 1\n",
    "hello_grid[7, [0, 1, 2, 3, 4]] = 1\n",
    "hello_grid[8, [0, 1, 4]] = 1\n",
    "hello_grid[9, [0, 1, 2, 3, 4]] = 1\n",
    "\n",
    "# plot the grid\n",
    "import matplotlib.pyplot as plt\n",
    "plt.imshow(hello_grid)\n",
    "plt.show()\n"
   ]
  },
  {
   "cell_type": "code",
   "execution_count": 22,
   "metadata": {},
   "outputs": [],
   "source": [
    "def advance_simulation(p, u, v, dt):\n",
    "   # Compute the intermediate velocity field\n",
    "   u_star = u + dt * (1 / rho) * (np.roll(p, -1, axis=0) - np.roll(p, 1, axis=0)) / dx\n",
    "\n",
    "   # Compute the intermediate velocity field\n",
    "   v_star = v + dt * (1 / rho) * (np.roll(p, -1, axis=1) - np.roll(p, 1, axis=1)) / dy\n",
    "\n",
    "\n",
    "   # Compute the intermediate pressure field\n",
    "   p_star = p + dt * (rho / dt) * (np.roll(u, -1, axis=0) - np.roll(u, 1, axis=0) + np.roll(v, -1, axis=1) - np.roll(v, 1, axis=1)) / (2 * dx)\n",
    "\n",
    "   # Update the velocity field\n",
    "   u[:, :] = u_star[:, :] - dt * (1 / rho) * (p_star[1:, :] - p_star[:-1, :]) / dx\n",
    "   v[:, :] = v_star[:, :] - dt * (1 / rho) * (p_star[:, 1:] - p_star[:, :-1]) / dy\n",
    "\n",
    "   # Update the pressure field\n",
    "   p[:, :] = p\n"
   ]
  },
  {
   "cell_type": "code",
   "execution_count": 23,
   "metadata": {},
   "outputs": [
    {
     "ename": "ValueError",
     "evalue": "operands could not be broadcast together with shapes (100,100) (99,100) ",
     "output_type": "error",
     "traceback": [
      "\u001b[0;31m---------------------------------------------------------------------------\u001b[0m",
      "\u001b[0;31mValueError\u001b[0m                                Traceback (most recent call last)",
      "Cell \u001b[0;32mIn [23], line 13\u001b[0m\n\u001b[1;32m     11\u001b[0m \u001b[39m# Advance the simulation in time\u001b[39;00m\n\u001b[1;32m     12\u001b[0m \u001b[39mfor\u001b[39;00m i \u001b[39min\u001b[39;00m \u001b[39mrange\u001b[39m(\u001b[39m10000\u001b[39m):\n\u001b[0;32m---> 13\u001b[0m     p, u, v \u001b[39m=\u001b[39m advance_simulation(p, u, v, dt)\n\u001b[1;32m     15\u001b[0m \u001b[39mimport\u001b[39;00m \u001b[39mmatplotlib\u001b[39;00m\u001b[39m.\u001b[39;00m\u001b[39mpyplot\u001b[39;00m \u001b[39mas\u001b[39;00m \u001b[39mplt\u001b[39;00m\n\u001b[1;32m     17\u001b[0m \u001b[39m# Plot the velocity field\u001b[39;00m\n",
      "Cell \u001b[0;32mIn [22], line 13\u001b[0m, in \u001b[0;36madvance_simulation\u001b[0;34m(p, u, v, dt)\u001b[0m\n\u001b[1;32m     10\u001b[0m p_star \u001b[39m=\u001b[39m p \u001b[39m+\u001b[39m dt \u001b[39m*\u001b[39m (rho \u001b[39m/\u001b[39m dt) \u001b[39m*\u001b[39m (np\u001b[39m.\u001b[39mroll(u, \u001b[39m-\u001b[39m\u001b[39m1\u001b[39m, axis\u001b[39m=\u001b[39m\u001b[39m0\u001b[39m) \u001b[39m-\u001b[39m np\u001b[39m.\u001b[39mroll(u, \u001b[39m1\u001b[39m, axis\u001b[39m=\u001b[39m\u001b[39m0\u001b[39m) \u001b[39m+\u001b[39m np\u001b[39m.\u001b[39mroll(v, \u001b[39m-\u001b[39m\u001b[39m1\u001b[39m, axis\u001b[39m=\u001b[39m\u001b[39m1\u001b[39m) \u001b[39m-\u001b[39m np\u001b[39m.\u001b[39mroll(v, \u001b[39m1\u001b[39m, axis\u001b[39m=\u001b[39m\u001b[39m1\u001b[39m)) \u001b[39m/\u001b[39m (\u001b[39m2\u001b[39m \u001b[39m*\u001b[39m dx)\n\u001b[1;32m     12\u001b[0m \u001b[39m# Update the velocity field\u001b[39;00m\n\u001b[0;32m---> 13\u001b[0m u[:, :] \u001b[39m=\u001b[39m u_star[:, :] \u001b[39m-\u001b[39;49m dt \u001b[39m*\u001b[39;49m (\u001b[39m1\u001b[39;49m \u001b[39m/\u001b[39;49m rho) \u001b[39m*\u001b[39;49m (p_star[\u001b[39m1\u001b[39;49m:, :] \u001b[39m-\u001b[39;49m p_star[:\u001b[39m-\u001b[39;49m\u001b[39m1\u001b[39;49m, :]) \u001b[39m/\u001b[39;49m dx\n\u001b[1;32m     14\u001b[0m v[:, :] \u001b[39m=\u001b[39m v_star[:, :] \u001b[39m-\u001b[39m dt \u001b[39m*\u001b[39m (\u001b[39m1\u001b[39m \u001b[39m/\u001b[39m rho) \u001b[39m*\u001b[39m (p_star[:, \u001b[39m1\u001b[39m:] \u001b[39m-\u001b[39m p_star[:, :\u001b[39m-\u001b[39m\u001b[39m1\u001b[39m]) \u001b[39m/\u001b[39m dy\n\u001b[1;32m     16\u001b[0m \u001b[39m# Update the pressure field\u001b[39;00m\n",
      "\u001b[0;31mValueError\u001b[0m: operands could not be broadcast together with shapes (100,100) (99,100) "
     ]
    }
   ],
   "source": [
    "# Set the boundary conditions for cells that allow fluid flow\n",
    "bc_flow[1:-1, 1:-1] = 1  # Allow flow in all cells except the outermost ones\n",
    "\n",
    "# Set the initial velocity field\n",
    "u[:, :] = 0.1  # Initial x-velocity (m/s)\n",
    "v[:, :] = 0.0  # Initial y-velocity (m/s)\n",
    "\n",
    "# Set the time step size\n",
    "dt = 0.01  # Time step size (s)\n",
    "\n",
    "# Advance the simulation in time\n",
    "for i in range(10000):\n",
    "    p, u, v = advance_simulation(p, u, v, dt)\n",
    "\n",
    "import matplotlib.pyplot as plt\n",
    "\n",
    "# Plot the velocity field\n",
    "plt.quiver(u, v)\n",
    "plt.show()\n"
   ]
  }
 ],
 "metadata": {
  "kernelspec": {
   "display_name": "Python 3.8.13 ('tf_2.4.0')",
   "language": "python",
   "name": "python3"
  },
  "language_info": {
   "codemirror_mode": {
    "name": "ipython",
    "version": 3
   },
   "file_extension": ".py",
   "mimetype": "text/x-python",
   "name": "python",
   "nbconvert_exporter": "python",
   "pygments_lexer": "ipython3",
   "version": "3.8.13"
  },
  "orig_nbformat": 4,
  "vscode": {
   "interpreter": {
    "hash": "5592904bc02381d742d8677a7dee9dfad432ddb320dbe6e668ed13d03d50aa2a"
   }
  }
 },
 "nbformat": 4,
 "nbformat_minor": 2
}
